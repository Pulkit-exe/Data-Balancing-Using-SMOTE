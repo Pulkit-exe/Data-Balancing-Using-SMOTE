{
 "cells": [
  {
   "cell_type": "code",
   "execution_count": null,
   "metadata": {},
   "outputs": [],
   "source": [
    "import numpy as np\n",
    "import pandas as pd\n",
    "from sklearn.model_selection import train_test_split\n",
    "from sklearn.ensemble import RandomForestClassifier\n",
    "from sklearn.preprocessing import LabelEncoder, StandardScaler\n",
    "from sklearn.metrics import classification_report, accuracy_score\n",
    "from imblearn.over_sampling import SMOTE"
   ]
  },
  {
   "cell_type": "code",
   "execution_count": null,
   "metadata": {},
   "outputs": [
    {
     "name": "stdout",
     "output_type": "stream",
     "text": [
      "<class 'pandas.core.frame.DataFrame'>\n",
      "RangeIndex: 101766 entries, 0 to 101765\n",
      "Data columns (total 48 columns):\n",
      " #   Column                    Non-Null Count   Dtype \n",
      "---  ------                    --------------   ----- \n",
      " 0   encounter_id              101766 non-null  int64 \n",
      " 1   patient_nbr               101766 non-null  int64 \n",
      " 2   race                      101766 non-null  object\n",
      " 3   gender                    101766 non-null  object\n",
      " 4   age                       101766 non-null  object\n",
      " 5   admission_type_id         101766 non-null  int64 \n",
      " 6   discharge_disposition_id  101766 non-null  int64 \n",
      " 7   admission_source_id       101766 non-null  int64 \n",
      " 8   time_in_hospital          101766 non-null  int64 \n",
      " 9   medical_specialty         101766 non-null  object\n",
      " 10  num_lab_procedures        101766 non-null  int64 \n",
      " 11  num_procedures            101766 non-null  int64 \n",
      " 12  num_medications           101766 non-null  int64 \n",
      " 13  number_outpatient         101766 non-null  int64 \n",
      " 14  number_emergency          101766 non-null  int64 \n",
      " 15  number_inpatient          101766 non-null  int64 \n",
      " 16  diag_1                    101766 non-null  object\n",
      " 17  diag_2                    101766 non-null  object\n",
      " 18  diag_3                    101766 non-null  object\n",
      " 19  number_diagnoses          101766 non-null  int64 \n",
      " 20  max_glu_serum             5346 non-null    object\n",
      " 21  A1Cresult                 17018 non-null   object\n",
      " 22  metformin                 101766 non-null  object\n",
      " 23  repaglinide               101766 non-null  object\n",
      " 24  nateglinide               101766 non-null  object\n",
      " 25  chlorpropamide            101766 non-null  object\n",
      " 26  glimepiride               101766 non-null  object\n",
      " 27  acetohexamide             101766 non-null  object\n",
      " 28  glipizide                 101766 non-null  object\n",
      " 29  glyburide                 101766 non-null  object\n",
      " 30  tolbutamide               101766 non-null  object\n",
      " 31  pioglitazone              101766 non-null  object\n",
      " 32  rosiglitazone             101766 non-null  object\n",
      " 33  acarbose                  101766 non-null  object\n",
      " 34  miglitol                  101766 non-null  object\n",
      " 35  troglitazone              101766 non-null  object\n",
      " 36  tolazamide                101766 non-null  object\n",
      " 37  examide                   101766 non-null  object\n",
      " 38  citoglipton               101766 non-null  object\n",
      " 39  insulin                   101766 non-null  object\n",
      " 40  glyburide-metformin       101766 non-null  object\n",
      " 41  glipizide-metformin       101766 non-null  object\n",
      " 42  glimepiride-pioglitazone  101766 non-null  object\n",
      " 43  metformin-rosiglitazone   101766 non-null  object\n",
      " 44  metformin-pioglitazone    101766 non-null  object\n",
      " 45  change                    101766 non-null  object\n",
      " 46  diabetesMed               101766 non-null  object\n",
      " 47  readmitted                101766 non-null  object\n",
      "dtypes: int64(13), object(35)\n",
      "memory usage: 37.3+ MB\n"
     ]
    },
    {
     "data": {
      "text/plain": [
       "(None,\n",
       "    encounter_id  patient_nbr             race  gender      age  \\\n",
       " 0       2278392      8222157        Caucasian  Female   [0-10)   \n",
       " 1        149190     55629189        Caucasian  Female  [10-20)   \n",
       " 2         64410     86047875  AfricanAmerican  Female  [20-30)   \n",
       " 3        500364     82442376        Caucasian    Male  [30-40)   \n",
       " 4         16680     42519267        Caucasian    Male  [40-50)   \n",
       " \n",
       "    admission_type_id  discharge_disposition_id  admission_source_id  \\\n",
       " 0                  6                        25                    1   \n",
       " 1                  1                         1                    7   \n",
       " 2                  1                         1                    7   \n",
       " 3                  1                         1                    7   \n",
       " 4                  1                         1                    7   \n",
       " \n",
       "    time_in_hospital         medical_specialty  ...  citoglipton  insulin  \\\n",
       " 0                 1  Pediatrics-Endocrinology  ...           No       No   \n",
       " 1                 3                         ?  ...           No       Up   \n",
       " 2                 2                         ?  ...           No       No   \n",
       " 3                 2                         ?  ...           No       Up   \n",
       " 4                 1                         ?  ...           No   Steady   \n",
       " \n",
       "    glyburide-metformin  glipizide-metformin  glimepiride-pioglitazone  \\\n",
       " 0                   No                   No                        No   \n",
       " 1                   No                   No                        No   \n",
       " 2                   No                   No                        No   \n",
       " 3                   No                   No                        No   \n",
       " 4                   No                   No                        No   \n",
       " \n",
       "    metformin-rosiglitazone metformin-pioglitazone change diabetesMed  \\\n",
       " 0                       No                     No     No          No   \n",
       " 1                       No                     No     Ch         Yes   \n",
       " 2                       No                     No     No         Yes   \n",
       " 3                       No                     No     Ch         Yes   \n",
       " 4                       No                     No     Ch         Yes   \n",
       " \n",
       "    readmitted  \n",
       " 0          NO  \n",
       " 1         >30  \n",
       " 2          NO  \n",
       " 3          NO  \n",
       " 4          NO  \n",
       " \n",
       " [5 rows x 48 columns])"
      ]
     },
     "execution_count": 1,
     "metadata": {},
     "output_type": "execute_result"
    }
   ],
   "source": [
    "# Load the uploaded CSV file to inspect its contents\n",
    "file_path = 'diabetic_data.csv'\n",
    "data = pd.read_csv(file_path)\n",
    "\n",
    "# Display basic information about the dataset\n",
    "data.info()"
   ]
  },
  {
   "cell_type": "code",
   "execution_count": 2,
   "metadata": {},
   "outputs": [
    {
     "data": {
      "text/plain": [
       "(       encounter_id   patient_nbr  admission_type_id  \\\n",
       " count  1.017660e+05  1.017660e+05      101766.000000   \n",
       " mean   1.652016e+08  5.433040e+07           2.024006   \n",
       " std    1.026403e+08  3.869636e+07           1.445403   \n",
       " min    1.252200e+04  1.350000e+02           1.000000   \n",
       " 25%    8.496119e+07  2.341322e+07           1.000000   \n",
       " 50%    1.523890e+08  4.550514e+07           1.000000   \n",
       " 75%    2.302709e+08  8.754595e+07           3.000000   \n",
       " max    4.438672e+08  1.895026e+08           8.000000   \n",
       " \n",
       "        discharge_disposition_id  admission_source_id  time_in_hospital  \\\n",
       " count             101766.000000        101766.000000     101766.000000   \n",
       " mean                   3.715642             5.754437          4.395987   \n",
       " std                    5.280166             4.064081          2.985108   \n",
       " min                    1.000000             1.000000          1.000000   \n",
       " 25%                    1.000000             1.000000          2.000000   \n",
       " 50%                    1.000000             7.000000          4.000000   \n",
       " 75%                    4.000000             7.000000          6.000000   \n",
       " max                   28.000000            25.000000         14.000000   \n",
       " \n",
       "        num_lab_procedures  num_procedures  num_medications  number_outpatient  \\\n",
       " count       101766.000000   101766.000000    101766.000000      101766.000000   \n",
       " mean            43.095641        1.339730        16.021844           0.369357   \n",
       " std             19.674362        1.705807         8.127566           1.267265   \n",
       " min              1.000000        0.000000         1.000000           0.000000   \n",
       " 25%             31.000000        0.000000        10.000000           0.000000   \n",
       " 50%             44.000000        1.000000        15.000000           0.000000   \n",
       " 75%             57.000000        2.000000        20.000000           0.000000   \n",
       " max            132.000000        6.000000        81.000000          42.000000   \n",
       " \n",
       "        number_emergency  number_inpatient  number_diagnoses  \n",
       " count     101766.000000     101766.000000     101766.000000  \n",
       " mean           0.197836          0.635566          7.422607  \n",
       " std            0.930472          1.262863          1.933600  \n",
       " min            0.000000          0.000000          1.000000  \n",
       " 25%            0.000000          0.000000          6.000000  \n",
       " 50%            0.000000          0.000000          8.000000  \n",
       " 75%            0.000000          1.000000          9.000000  \n",
       " max           76.000000         21.000000         16.000000  ,\n",
       " encounter_id                    0\n",
       " patient_nbr                     0\n",
       " race                         2273\n",
       " gender                          0\n",
       " age                             0\n",
       " admission_type_id               0\n",
       " discharge_disposition_id        0\n",
       " admission_source_id             0\n",
       " time_in_hospital                0\n",
       " medical_specialty           49949\n",
       " num_lab_procedures              0\n",
       " num_procedures                  0\n",
       " num_medications                 0\n",
       " number_outpatient               0\n",
       " number_emergency                0\n",
       " number_inpatient                0\n",
       " diag_1                         21\n",
       " diag_2                        358\n",
       " diag_3                       1423\n",
       " number_diagnoses                0\n",
       " max_glu_serum                   0\n",
       " A1Cresult                       0\n",
       " metformin                       0\n",
       " repaglinide                     0\n",
       " nateglinide                     0\n",
       " chlorpropamide                  0\n",
       " glimepiride                     0\n",
       " acetohexamide                   0\n",
       " glipizide                       0\n",
       " glyburide                       0\n",
       " tolbutamide                     0\n",
       " pioglitazone                    0\n",
       " rosiglitazone                   0\n",
       " acarbose                        0\n",
       " miglitol                        0\n",
       " troglitazone                    0\n",
       " tolazamide                      0\n",
       " examide                         0\n",
       " citoglipton                     0\n",
       " insulin                         0\n",
       " glyburide-metformin             0\n",
       " glipizide-metformin             0\n",
       " glimepiride-pioglitazone        0\n",
       " metformin-rosiglitazone         0\n",
       " metformin-pioglitazone          0\n",
       " change                          0\n",
       " diabetesMed                     0\n",
       " readmitted                      0\n",
       " dtype: int64,\n",
       " {'race': 6,\n",
       "  'gender': 3,\n",
       "  'age': 10,\n",
       "  'medical_specialty': 73,\n",
       "  'diag_1': 717,\n",
       "  'diag_2': 749,\n",
       "  'diag_3': 790,\n",
       "  'max_glu_serum': 3,\n",
       "  'A1Cresult': 3,\n",
       "  'metformin': 4,\n",
       "  'repaglinide': 4,\n",
       "  'nateglinide': 4,\n",
       "  'chlorpropamide': 4,\n",
       "  'glimepiride': 4,\n",
       "  'acetohexamide': 2,\n",
       "  'glipizide': 4,\n",
       "  'glyburide': 4,\n",
       "  'tolbutamide': 2,\n",
       "  'pioglitazone': 4,\n",
       "  'rosiglitazone': 4,\n",
       "  'acarbose': 4,\n",
       "  'miglitol': 4,\n",
       "  'troglitazone': 2,\n",
       "  'tolazamide': 3,\n",
       "  'examide': 1,\n",
       "  'citoglipton': 1,\n",
       "  'insulin': 4,\n",
       "  'glyburide-metformin': 4,\n",
       "  'glipizide-metformin': 2,\n",
       "  'glimepiride-pioglitazone': 2,\n",
       "  'metformin-rosiglitazone': 2,\n",
       "  'metformin-pioglitazone': 2,\n",
       "  'change': 2,\n",
       "  'diabetesMed': 2,\n",
       "  'readmitted': 3})"
      ]
     },
     "execution_count": 2,
     "metadata": {},
     "output_type": "execute_result"
    }
   ],
   "source": [
    "# Analyze numeric columns for summary statistics\n",
    "numeric_summary = data.describe()\n",
    "\n",
    "# Analyze categorical columns for unique values and their counts\n",
    "categorical_columns = data.select_dtypes(include=['object'])\n",
    "categorical_summary = {col: data[col].value_counts().to_dict() for col in categorical_columns}\n",
    "\n",
    "# Check for missing values or anomalies ('?')\n",
    "missing_values = data.isin(['?']).sum()\n",
    "\n",
    "# Summarize results\n",
    "numeric_summary, missing_values, {col: len(categorical_summary[col]) for col in categorical_summary}\n"
   ]
  },
  {
   "cell_type": "code",
   "execution_count": null,
   "metadata": {},
   "outputs": [],
   "source": [
    "# Copy data for preprocessing\n",
    "df = data.copy()\n",
    "\n",
    "# Binary classification: map 'readmitted' to 0 (NO) and 1 (other values)\n",
    "df['readmitted'] = df['readmitted'].map(lambda x: 0 if x == 'NO' else 1)\n",
    "\n",
    "# Handle missing values ('?') - Replace with 'Unknown' or drop if necessary\n",
    "df.replace('?', 'Unknown', inplace=True)\n",
    "\n",
    "# Encode categorical variables\n",
    "categorical_features = df.select_dtypes(include=['object']).columns\n",
    "encoder = LabelEncoder()\n",
    "for col in categorical_features:\n",
    "    df[col] = encoder.fit_transform(df[col])\n",
    "\n",
    "# Split data into features and target\n",
    "X = df.drop(columns=['readmitted', 'encounter_id', 'patient_nbr'])  # Drop ID-like columns\n",
    "y = df['readmitted']\n",
    "\n",
    "# Scale numerical features\n",
    "scaler = StandardScaler()\n",
    "X_scaled = scaler.fit_transform(X)\n",
    "\n",
    "# Split into training and test sets\n",
    "X_train, X_test, y_train, y_test = train_test_split(X_scaled, y, test_size=0.2, random_state=42)\n",
    "\n",
    "# Train a Random Forest Classifier\n",
    "rf_model = RandomForestClassifier(random_state=42)\n",
    "rf_model.fit(X_train, y_train)\n",
    "\n",
    "# Predictions and evaluation\n",
    "y_pred = rf_model.predict(X_test)\n",
    "accuracy = accuracy_score(y_test, y_pred)\n",
    "report = classification_report(y_test, y_pred)\n"
   ]
  },
  {
   "cell_type": "code",
   "execution_count": 4,
   "metadata": {},
   "outputs": [
    {
     "name": "stdout",
     "output_type": "stream",
     "text": [
      "0.6376633585536012\n"
     ]
    }
   ],
   "source": [
    "print(accuracy)"
   ]
  },
  {
   "cell_type": "code",
   "execution_count": 5,
   "metadata": {},
   "outputs": [
    {
     "name": "stdout",
     "output_type": "stream",
     "text": [
      "              precision    recall  f1-score   support\n",
      "\n",
      "           0       0.64      0.74      0.69     10952\n",
      "           1       0.63      0.52      0.57      9402\n",
      "\n",
      "    accuracy                           0.64     20354\n",
      "   macro avg       0.64      0.63      0.63     20354\n",
      "weighted avg       0.64      0.64      0.63     20354\n",
      "\n"
     ]
    }
   ],
   "source": [
    "print(report)"
   ]
  },
  {
   "cell_type": "code",
   "execution_count": null,
   "metadata": {},
   "outputs": [
    {
     "name": "stdout",
     "output_type": "stream",
     "text": [
      "Top Features:\n",
      "num_lab_procedures\n",
      "diag_2\n",
      "diag_1\n",
      "diag_3\n",
      "num_medications\n",
      "time_in_hospital\n",
      "number_inpatient\n",
      "age\n",
      "discharge_disposition_id\n",
      "number_diagnoses\n",
      "medical_specialty\n",
      "num_procedures\n",
      "insulin\n",
      "admission_type_id\n",
      "race\n"
     ]
    }
   ],
   "source": [
    "# Extract feature importances\n",
    "feature_importances = rf_model.feature_importances_\n",
    "feature_names = X.columns\n",
    "\n",
    "# Create a DataFrame for feature importances\n",
    "important_features_df = pd.DataFrame({\n",
    "    'Feature': feature_names,\n",
    "    'Importance': feature_importances\n",
    "}).sort_values(by='Importance', ascending=False)\n",
    "\n",
    "# Extract the top N features (e.g., 15)\n",
    "top_n = 15\n",
    "top_features = important_features_df.head(top_n)['Feature'].tolist()\n",
    "\n",
    "# Output the top features\n",
    "print(\"Top Features:\")\n",
    "for i in top_features:\n",
    "    print(i)\n"
   ]
  },
  {
   "cell_type": "code",
   "execution_count": null,
   "metadata": {},
   "outputs": [],
   "source": [
    "from sklearn.impute import SimpleImputer\n",
    "\n",
    "# Select relevant columns and define the target variable\n",
    "X = data[top_features]\n",
    "y = data['readmitted']\n",
    "\n",
    "# Handle missing values with a simple imputer\n",
    "imputer = SimpleImputer(strategy='most_frequent')\n",
    "X_imputed = imputer.fit_transform(X)\n",
    "\n",
    "# Scale numerical features for Logistic Regression\n",
    "scaler = StandardScaler()\n",
    "X_scaled = scaler.fit_transform(X_imputed)\n",
    "\n",
    "# Split the data into training and test sets\n",
    "X_train, X_test, y_train, y_test = train_test_split(X_scaled, y, test_size=0.2, random_state=42)\n"
   ]
  },
  {
   "cell_type": "code",
   "execution_count": null,
   "metadata": {},
   "outputs": [
    {
     "data": {
      "text/plain": [
       "array([2, 1, 0])"
      ]
     },
     "execution_count": 25,
     "metadata": {},
     "output_type": "execute_result"
    }
   ],
   "source": [
    "# Inspect unique values in the 'readmitted' column\n",
    "data['readmitted'].unique()"
   ]
  },
  {
   "cell_type": "code",
   "execution_count": 32,
   "metadata": {},
   "outputs": [
    {
     "data": {
      "text/plain": [
       "readmitted\n",
       "0    54864\n",
       "1    46902\n",
       "Name: count, dtype: int64"
      ]
     },
     "execution_count": 32,
     "metadata": {},
     "output_type": "execute_result"
    }
   ],
   "source": [
    "# Correctly map 'readmitted' to binary classes\n",
    "y_binary = data['readmitted'].map(lambda x: 0 if x == 2 else 1)  # 0: Not Readmitted, 1: Readmitted\n",
    "\n",
    "# Check the distribution of the binary target variable\n",
    "y_binary.value_counts()"
   ]
  },
  {
   "cell_type": "code",
   "execution_count": null,
   "metadata": {},
   "outputs": [],
   "source": [
    "# Apply SMOTE to balance the classes\n",
    "smote = SMOTE(random_state=42)\n",
    "X_balanced, y_balanced = smote.fit_resample(X_scaled, y_binary)\n",
    "\n",
    "# Verify the new distribution of the balanced target variable\n",
    "balanced_distribution = pd.Series(y_balanced).value_counts()\n",
    "\n",
    "# Split the balanced data into training and test sets\n",
    "X_train_bal, X_test_bal, y_train_bal, y_test_bal = train_test_split(\n",
    "    X_balanced, y_balanced, test_size=0.2, random_state=42\n",
    ")\n",
    "\n",
    "# Train a Random Forest model\n",
    "rf_model = RandomForestClassifier(random_state=42)\n",
    "rf_model.fit(X_train_bal, y_train_bal)\n",
    "\n",
    "# Predictions and evaluation\n",
    "y_pred_bal = rf_model.predict(X_test_bal)\n",
    "rf_accuracy = accuracy_score(y_test_bal, y_pred_bal)\n",
    "rf_report = classification_report(y_test_bal, y_pred_bal)\n"
   ]
  },
  {
   "cell_type": "code",
   "execution_count": 34,
   "metadata": {},
   "outputs": [
    {
     "name": "stdout",
     "output_type": "stream",
     "text": [
      "readmitted\n",
      "0    54864\n",
      "1    54864\n",
      "Name: count, dtype: int64\n"
     ]
    }
   ],
   "source": [
    "print(balanced_distribution)"
   ]
  },
  {
   "cell_type": "code",
   "execution_count": 35,
   "metadata": {},
   "outputs": [
    {
     "name": "stdout",
     "output_type": "stream",
     "text": [
      "0.6716941583887724\n"
     ]
    }
   ],
   "source": [
    "print(rf_accuracy)"
   ]
  },
  {
   "cell_type": "code",
   "execution_count": 36,
   "metadata": {},
   "outputs": [
    {
     "name": "stdout",
     "output_type": "stream",
     "text": [
      "              precision    recall  f1-score   support\n",
      "\n",
      "           0       0.66      0.71      0.69     10997\n",
      "           1       0.69      0.63      0.66     10949\n",
      "\n",
      "    accuracy                           0.67     21946\n",
      "   macro avg       0.67      0.67      0.67     21946\n",
      "weighted avg       0.67      0.67      0.67     21946\n",
      "\n"
     ]
    }
   ],
   "source": [
    "print(rf_report)"
   ]
  }
 ],
 "metadata": {
  "kernelspec": {
   "display_name": "diabetic_env",
   "language": "python",
   "name": "python3"
  },
  "language_info": {
   "codemirror_mode": {
    "name": "ipython",
    "version": 3
   },
   "file_extension": ".py",
   "mimetype": "text/x-python",
   "name": "python",
   "nbconvert_exporter": "python",
   "pygments_lexer": "ipython3",
   "version": "3.11.7"
  }
 },
 "nbformat": 4,
 "nbformat_minor": 2
}
